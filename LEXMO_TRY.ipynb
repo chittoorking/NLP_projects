{
  "nbformat": 4,
  "nbformat_minor": 0,
  "metadata": {
    "colab": {
      "name": "LEXMO_TRY.ipynb",
      "provenance": [],
      "collapsed_sections": [],
      "include_colab_link": true
    },
    "kernelspec": {
      "name": "python3",
      "display_name": "Python 3"
    }
  },
  "cells": [
    {
      "cell_type": "markdown",
      "metadata": {
        "id": "view-in-github",
        "colab_type": "text"
      },
      "source": [
        "<a href=\"https://colab.research.google.com/github/chittoorking/NLP_projects/blob/main/LEXMO_TRY.ipynb\" target=\"_parent\"><img src=\"https://colab.research.google.com/assets/colab-badge.svg\" alt=\"Open In Colab\"/></a>"
      ]
    },
    {
      "cell_type": "code",
      "metadata": {
        "id": "usE1B6pdQPl3",
        "colab": {
          "base_uri": "https://localhost:8080/"
        },
        "outputId": "fc50d333-bc63-4c88-9ec7-32b03188156c"
      },
      "source": [
        "import nltk\n",
        "nltk.download('punkt')"
      ],
      "execution_count": 1,
      "outputs": [
        {
          "output_type": "stream",
          "name": "stderr",
          "text": [
            "[nltk_data] Downloading package punkt to /root/nltk_data...\n",
            "[nltk_data]   Unzipping tokenizers/punkt.zip.\n"
          ]
        },
        {
          "output_type": "execute_result",
          "data": {
            "text/plain": [
              "True"
            ]
          },
          "metadata": {},
          "execution_count": 1
        }
      ]
    },
    {
      "cell_type": "code",
      "metadata": {
        "id": "945fu9lvQT3A"
      },
      "source": [
        "import pandas as pd\n",
        "from nltk import word_tokenize\n",
        "from nltk.stem.snowball import SnowballStemmer\n",
        "import requests\n"
      ],
      "execution_count": 2,
      "outputs": []
    },
    {
      "cell_type": "code",
      "metadata": {
        "id": "58j6VQDZPCaD",
        "colab": {
          "base_uri": "https://localhost:8080/"
        },
        "outputId": "7b0efebd-dc61-4f6c-d074-cd7ee3afabd2"
      },
      "source": [
        "\n",
        "!pip install -U LeXmo"
      ],
      "execution_count": 3,
      "outputs": [
        {
          "output_type": "stream",
          "name": "stdout",
          "text": [
            "Looking in indexes: https://pypi.org/simple, https://us-python.pkg.dev/colab-wheels/public/simple/\n",
            "Collecting LeXmo\n",
            "  Downloading LeXmo-0.1.4-py3-none-any.whl (6.9 kB)\n",
            "Requirement already satisfied: nltk in /usr/local/lib/python3.7/dist-packages (from LeXmo) (3.7)\n",
            "Requirement already satisfied: pandas in /usr/local/lib/python3.7/dist-packages (from LeXmo) (1.3.5)\n",
            "Requirement already satisfied: requests in /usr/local/lib/python3.7/dist-packages (from LeXmo) (2.23.0)\n",
            "Requirement already satisfied: click in /usr/local/lib/python3.7/dist-packages (from nltk->LeXmo) (7.1.2)\n",
            "Requirement already satisfied: tqdm in /usr/local/lib/python3.7/dist-packages (from nltk->LeXmo) (4.64.0)\n",
            "Requirement already satisfied: joblib in /usr/local/lib/python3.7/dist-packages (from nltk->LeXmo) (1.1.0)\n",
            "Requirement already satisfied: regex>=2021.8.3 in /usr/local/lib/python3.7/dist-packages (from nltk->LeXmo) (2022.6.2)\n",
            "Requirement already satisfied: numpy>=1.17.3 in /usr/local/lib/python3.7/dist-packages (from pandas->LeXmo) (1.21.6)\n",
            "Requirement already satisfied: python-dateutil>=2.7.3 in /usr/local/lib/python3.7/dist-packages (from pandas->LeXmo) (2.8.2)\n",
            "Requirement already satisfied: pytz>=2017.3 in /usr/local/lib/python3.7/dist-packages (from pandas->LeXmo) (2022.1)\n",
            "Requirement already satisfied: six>=1.5 in /usr/local/lib/python3.7/dist-packages (from python-dateutil>=2.7.3->pandas->LeXmo) (1.15.0)\n",
            "Requirement already satisfied: chardet<4,>=3.0.2 in /usr/local/lib/python3.7/dist-packages (from requests->LeXmo) (3.0.4)\n",
            "Requirement already satisfied: idna<3,>=2.5 in /usr/local/lib/python3.7/dist-packages (from requests->LeXmo) (2.10)\n",
            "Requirement already satisfied: certifi>=2017.4.17 in /usr/local/lib/python3.7/dist-packages (from requests->LeXmo) (2022.6.15)\n",
            "Requirement already satisfied: urllib3!=1.25.0,!=1.25.1,<1.26,>=1.21.1 in /usr/local/lib/python3.7/dist-packages (from requests->LeXmo) (1.24.3)\n",
            "Installing collected packages: LeXmo\n",
            "Successfully installed LeXmo-0.1.4\n"
          ]
        }
      ]
    },
    {
      "cell_type": "code",
      "metadata": {
        "id": "4x1gmCT7PFOR",
        "colab": {
          "base_uri": "https://localhost:8080/"
        },
        "outputId": "4ae37738-df34-478e-ade2-16bfdc241bc1"
      },
      "source": [
        "from LeXmo import LeXmo"
      ],
      "execution_count": 4,
      "outputs": [
        {
          "output_type": "stream",
          "name": "stderr",
          "text": [
            "[nltk_data] Downloading package punkt to /root/nltk_data...\n",
            "[nltk_data]   Package punkt is already up-to-date!\n"
          ]
        }
      ]
    },
    {
      "cell_type": "code",
      "metadata": {
        "id": "ezCPGImCr8Ul"
      },
      "source": [
        "t= \"\"\"From the beginning, she had sat looking at him fixedly.\n",
        "  As he now leaned back in his chair, and bent his deep-set eyes upon her in his turn,\n",
        "  perhaps he might have seen one wavering moment in her, \n",
        "  when she was impelled to throw herself upon his breast,\n",
        "  and give him the pent-up confidences of her heart.\n",
        "  But, to see it, he must have overleaped at a bound the artificial barriers he had for many years been erecting, \n",
        "  between himself and all those subtle essences of humanity which will elude the utmost cunning of algebra\n",
        "  until the last trumpet ever to be sounded shall blow even algebra to wreck.\n",
        "  The barriers were too many and too high for such a leap. With his unbending,\n",
        "  utilitarian, matter-of-fact face, he hardened her again;\n",
        "  and the moment shot away into the plumbless depths of the past,\n",
        "  to mingle with all the lost opportunities that are drowned there.\"\"\"\n",
        "# Charles Dickens, Hard Times"
      ],
      "execution_count": 5,
      "outputs": []
    },
    {
      "cell_type": "code",
      "metadata": {
        "id": "lNBKFLHCDLtw"
      },
      "source": [
        "emo=LeXmo.LeXmo(t)"
      ],
      "execution_count": 6,
      "outputs": []
    },
    {
      "cell_type": "code",
      "metadata": {
        "id": "btWc2zliWSza",
        "colab": {
          "base_uri": "https://localhost:8080/"
        },
        "outputId": "ea25ba92-204a-4b8c-f7ad-3e08edcc8a86"
      },
      "source": [
        "print(emo)"
      ],
      "execution_count": 7,
      "outputs": [
        {
          "output_type": "stream",
          "name": "stdout",
          "text": [
            "{'text': 'From the beginning, she had sat looking at him fixedly.\\n  As he now leaned back in his chair, and bent his deep-set eyes upon her in his turn,\\n  perhaps he might have seen one wavering moment in her, \\n  when she was impelled to throw herself upon his breast,\\n  and give him the pent-up confidences of her heart.\\n  But, to see it, he must have overleaped at a bound the artificial barriers he had for many years been erecting, \\n  between himself and all those subtle essences of humanity which will elude the utmost cunning of algebra\\n  until the last trumpet ever to be sounded shall blow even algebra to wreck.\\n  The barriers were too many and too high for such a leap. With his unbending,\\n  utilitarian, matter-of-fact face, he hardened her again;\\n  and the moment shot away into the plumbless depths of the past,\\n  to mingle with all the lost opportunities that are drowned there.', 'anger': 0.023255813953488372, 'anticipation': 0.0, 'disgust': 0.005813953488372093, 'fear': 0.023255813953488372, 'joy': 0.0, 'negative': 0.05232558139534884, 'positive': 0.005813953488372093, 'sadness': 0.023255813953488372, 'surprise': 0.011627906976744186, 'trust': 0.005813953488372093}\n"
          ]
        }
      ]
    },
    {
      "cell_type": "code",
      "metadata": {
        "id": "1C9UsjeixoX9",
        "colab": {
          "base_uri": "https://localhost:8080/",
          "height": 105
        },
        "outputId": "ca386396-30e2-4ed4-ac69-c663929563fd"
      },
      "source": [
        "emo.pop('text', None)"
      ],
      "execution_count": 8,
      "outputs": [
        {
          "output_type": "execute_result",
          "data": {
            "text/plain": [
              "'From the beginning, she had sat looking at him fixedly.\\n  As he now leaned back in his chair, and bent his deep-set eyes upon her in his turn,\\n  perhaps he might have seen one wavering moment in her, \\n  when she was impelled to throw herself upon his breast,\\n  and give him the pent-up confidences of her heart.\\n  But, to see it, he must have overleaped at a bound the artificial barriers he had for many years been erecting, \\n  between himself and all those subtle essences of humanity which will elude the utmost cunning of algebra\\n  until the last trumpet ever to be sounded shall blow even algebra to wreck.\\n  The barriers were too many and too high for such a leap. With his unbending,\\n  utilitarian, matter-of-fact face, he hardened her again;\\n  and the moment shot away into the plumbless depths of the past,\\n  to mingle with all the lost opportunities that are drowned there.'"
            ],
            "application/vnd.google.colaboratory.intrinsic+json": {
              "type": "string"
            }
          },
          "metadata": {},
          "execution_count": 8
        }
      ]
    },
    {
      "cell_type": "code",
      "metadata": {
        "id": "ooMbjwYozgyp",
        "colab": {
          "base_uri": "https://localhost:8080/"
        },
        "outputId": "e71ff69a-975e-48f1-a32c-7900fa19419e"
      },
      "source": [
        "print(emo)"
      ],
      "execution_count": 9,
      "outputs": [
        {
          "output_type": "stream",
          "name": "stdout",
          "text": [
            "{'anger': 0.023255813953488372, 'anticipation': 0.0, 'disgust': 0.005813953488372093, 'fear': 0.023255813953488372, 'joy': 0.0, 'negative': 0.05232558139534884, 'positive': 0.005813953488372093, 'sadness': 0.023255813953488372, 'surprise': 0.011627906976744186, 'trust': 0.005813953488372093}\n"
          ]
        }
      ]
    },
    {
      "cell_type": "code",
      "metadata": {
        "id": "cPCNVi-Ts56_"
      },
      "source": [
        ""
      ],
      "execution_count": null,
      "outputs": []
    }
  ]
}