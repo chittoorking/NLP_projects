{
  "nbformat": 4,
  "nbformat_minor": 0,
  "metadata": {
    "colab": {
      "name": "Text_emotion_detection_NCRLex.ipynb",
      "provenance": [],
      "collapsed_sections": [],
      "authorship_tag": "ABX9TyOl4XEv5qDC4X1NUIeg9SDz",
      "include_colab_link": true
    },
    "kernelspec": {
      "name": "python3",
      "display_name": "Python 3"
    },
    "language_info": {
      "name": "python"
    }
  },
  "cells": [
    {
      "cell_type": "markdown",
      "metadata": {
        "id": "view-in-github",
        "colab_type": "text"
      },
      "source": [
        "<a href=\"https://colab.research.google.com/github/chittoorking/NLP_projects/blob/main/Text_emotion_detection_NCRLex.ipynb\" target=\"_parent\"><img src=\"https://colab.research.google.com/assets/colab-badge.svg\" alt=\"Open In Colab\"/></a>"
      ]
    },
    {
      "cell_type": "code",
      "source": [
        "import nltk\n",
        "nltk.download('punkt')"
      ],
      "metadata": {
        "colab": {
          "base_uri": "https://localhost:8080/"
        },
        "id": "9yVzPz1BtECo",
        "outputId": "9c2c74d2-a18f-4616-f462-f9c27066a535"
      },
      "execution_count": 4,
      "outputs": [
        {
          "output_type": "stream",
          "name": "stderr",
          "text": [
            "[nltk_data] Downloading package punkt to /root/nltk_data...\n",
            "[nltk_data]   Unzipping tokenizers/punkt.zip.\n"
          ]
        },
        {
          "output_type": "execute_result",
          "data": {
            "text/plain": [
              "True"
            ]
          },
          "metadata": {},
          "execution_count": 4
        }
      ]
    },
    {
      "cell_type": "code",
      "source": [
        "pip install NRCLex"
      ],
      "metadata": {
        "colab": {
          "base_uri": "https://localhost:8080/"
        },
        "id": "cq1-CyVos3zH",
        "outputId": "0d2c5560-4b86-4db7-eb53-d98a2839a9b6"
      },
      "execution_count": 5,
      "outputs": [
        {
          "output_type": "stream",
          "name": "stdout",
          "text": [
            "Looking in indexes: https://pypi.org/simple, https://us-python.pkg.dev/colab-wheels/public/simple/\n",
            "Requirement already satisfied: NRCLex in /usr/local/lib/python3.7/dist-packages (3.0.0)\n",
            "Requirement already satisfied: textblob in /usr/local/lib/python3.7/dist-packages (from NRCLex) (0.15.3)\n",
            "Requirement already satisfied: nltk>=3.1 in /usr/local/lib/python3.7/dist-packages (from textblob->NRCLex) (3.7)\n",
            "Requirement already satisfied: regex>=2021.8.3 in /usr/local/lib/python3.7/dist-packages (from nltk>=3.1->textblob->NRCLex) (2022.6.2)\n",
            "Requirement already satisfied: tqdm in /usr/local/lib/python3.7/dist-packages (from nltk>=3.1->textblob->NRCLex) (4.64.0)\n",
            "Requirement already satisfied: click in /usr/local/lib/python3.7/dist-packages (from nltk>=3.1->textblob->NRCLex) (7.1.2)\n",
            "Requirement already satisfied: joblib in /usr/local/lib/python3.7/dist-packages (from nltk>=3.1->textblob->NRCLex) (1.1.0)\n"
          ]
        }
      ]
    },
    {
      "cell_type": "code",
      "execution_count": 11,
      "metadata": {
        "colab": {
          "base_uri": "https://localhost:8080/"
        },
        "id": "PjIAMyWNs0K6",
        "outputId": "ec9e4da9-e5f7-46b3-cab9-542587a8c89f"
      },
      "outputs": [
        {
          "output_type": "stream",
          "name": "stdout",
          "text": [
            "['hey', 'whatsup', 'I', 'am', 'so', 'worried']\n",
            "['negative', 'sadness']\n",
            "[('negative', 0.5), ('sadness', 0.5)]\n"
          ]
        },
        {
          "output_type": "execute_result",
          "data": {
            "text/plain": [
              "{'anger': 0.0,\n",
              " 'anticip': 0.0,\n",
              " 'disgust': 0.0,\n",
              " 'fear': 0.0,\n",
              " 'joy': 0.0,\n",
              " 'negative': 0.5,\n",
              " 'positive': 0.0,\n",
              " 'sadness': 0.5,\n",
              " 'surprise': 0.0,\n",
              " 'trust': 0.0}"
            ]
          },
          "metadata": {},
          "execution_count": 11
        }
      ],
      "source": [
        "from nrclex import NRCLex\n",
        "\n",
        "\n",
        "#Instantiate text object (for best results, 'text' should be unicode).\n",
        "\n",
        "text_object = NRCLex('hey whatsup I am so worried')\n",
        "\n",
        "\n",
        "#Return words list.\n",
        "\n",
        "print(text_object.words)\n",
        "\n",
        "\n",
        "#Return sentences list.\n",
        "\n",
        "text_object.sentences\n",
        "\n",
        "\n",
        "#Return affect list.\n",
        "\n",
        "print(text_object.affect_list)\n",
        "\n",
        "\n",
        "#Return affect dictionary.\n",
        "\n",
        "text_object.affect_dict\n",
        "\n",
        "\n",
        "#Return raw emotional counts.\n",
        "\n",
        "text_object.raw_emotion_scores\n",
        "\n",
        "\n",
        "#Return highest emotions.\n",
        "\n",
        "print(text_object.top_emotions)\n",
        "\n",
        "\n",
        "#Return affect frequencies.\n",
        "\n",
        "text_object.affect_frequencies"
      ]
    },
    {
      "cell_type": "code",
      "source": [
        ""
      ],
      "metadata": {
        "id": "RP1WQaSGtAVi"
      },
      "execution_count": null,
      "outputs": []
    }
  ]
}